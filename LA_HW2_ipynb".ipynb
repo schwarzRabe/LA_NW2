{
  "nbformat": 4,
  "nbformat_minor": 0,
  "metadata": {
    "colab": {
      "provenance": [],
      "include_colab_link": true
    },
    "kernelspec": {
      "name": "python3",
      "display_name": "Python 3"
    },
    "language_info": {
      "name": "python"
    }
  },
  "cells": [
    {
      "cell_type": "markdown",
      "metadata": {
        "id": "view-in-github",
        "colab_type": "text"
      },
      "source": [
        "<a href=\"https://colab.research.google.com/github/schwarzRabe/LA_NW2/blob/main/LA_HW2_ipynb%22.ipynb\" target=\"_parent\"><img src=\"https://colab.research.google.com/assets/colab-badge.svg\" alt=\"Open In Colab\"/></a>"
      ]
    },
    {
      "cell_type": "markdown",
      "source": [
        "# Задание 1"
      ],
      "metadata": {
        "id": "DQQFfNTLJ20S"
      }
    },
    {
      "cell_type": "code",
      "execution_count": 1,
      "metadata": {
        "id": "XqAzbM6WJyE2",
        "colab": {
          "base_uri": "https://localhost:8080/"
        },
        "outputId": "bbdee3a2-5c90-4bb7-da93-ff8334c8bd35"
      },
      "outputs": [
        {
          "output_type": "stream",
          "name": "stdout",
          "text": [
            "(AxB)xC\n"
          ]
        }
      ],
      "source": [
        "import numpy as np\n",
        "\n",
        "def multiplication_order(A, B, C):\n",
        "    # Mатрицы\n",
        "    rows_A, cols_A = A.shape\n",
        "    rows_B, cols_B = B.shape\n",
        "    rows_C, cols_C = C.shape\n",
        "\n",
        "    # Подсчёт операций для (AxB)xC\n",
        "    count_ABC = rows_A * cols_A * cols_B + rows_A * cols_B * cols_C\n",
        "    # Подсчёт операций для Ax(BxC)\n",
        "    count_A_BC = rows_B * cols_B * cols_C + rows_A * rows_B * cols_C\n",
        "\n",
        "    if count_ABC <= count_A_BC:\n",
        "        return '(AxB)xC'\n",
        "    else:\n",
        "        return 'Ax(BxC)'\n",
        "\n",
        "# вызов функции\n",
        "A = np.array([[1, 2]])\n",
        "B = np.array([[2], [1]])\n",
        "C = np.array([[5]])\n",
        "\n",
        "print(multiplication_order(A, B, C))"
      ]
    },
    {
      "cell_type": "markdown",
      "source": [
        "# Задание 2\n"
      ],
      "metadata": {
        "id": "vQvUEt_KKShX"
      }
    },
    {
      "cell_type": "code",
      "source": [
        "#ваш код\n",
        "#функция возвращает номера признаков входного numpy-массива (х), наиболее и наименее коррелирующих с ценой (у - вектор цен)).\n",
        "import pandas as pd\n",
        "\n",
        "data_set = pd.DataFrame({\n",
        "    \"Комнаты\": [3, 1, 2, 3, 1, 3, 2, 1, 3, 1, 2],\n",
        "    \"Площадь\": [51, 30, 45, 55, 45, 100, 71, 31, 53, 33, 43],\n",
        "    \"Этаж\": [3, 1, 2, 1, 3, 3, 2, 2, 5, 3, 5],\n",
        "    \"Центр\": [0, 0, 0, 0, 1, 1, 1, 0, 0, 0, 0],\n",
        "    \"Спальный1\": [1, 1, 1, 1, 0, 0, 0, 0, 0, 0, 0],\n",
        "    \"Спальный2\": [0, 0, 0, 0, 0, 0, 0, 1, 1, 1, 1],\n",
        "    \"Цена\": [2200, 1600, 1900, 2000, 4500, 7000, 5000, 1700, 2100, 1500, 2000]\n",
        "})\n",
        "\n",
        "def best_worst(x, y):\n",
        "# собираем данные в одну таблицу по столбцам\n",
        "      combi_data = pd.concat([x, y], axis =1)\n",
        "#имя столбца, к которому будем считать корреляцию\n",
        "      name_compare = combi_data.columns.values.tolist()[-1]\n",
        "#рассчитываем корреляцию\n",
        "      correlation = combi_data.corr()[name_compare].drop(name_compare)\n",
        "      print(correlation)\n",
        "# ищем мин и макс значения\n",
        "      max_corr_idx = np.argmax(np.abs(correlation))\n",
        "      min_corr_idx = np.argmin(np.abs(correlation))\n",
        "\n",
        "      return (max_corr_idx, min_corr_idx)\n",
        "\n",
        "\n",
        "x = data_set.drop('Цена', axis=1)\n",
        "y = data_set['Цена']\n",
        "\n",
        "best_worst(x,y)\n",
        "\n"
      ],
      "metadata": {
        "id": "TMJq9ob2KYBY",
        "colab": {
          "base_uri": "https://localhost:8080/"
        },
        "outputId": "bea69caa-f5e0-43e8-e47b-b898a4f1a049"
      },
      "execution_count": 2,
      "outputs": [
        {
          "output_type": "stream",
          "name": "stdout",
          "text": [
            "Комнаты      0.247668\n",
            "Площадь      0.866628\n",
            "Этаж         0.040698\n",
            "Центр        0.937718\n",
            "Спальный1   -0.412126\n",
            "Спальный2   -0.456032\n",
            "Name: Цена, dtype: float64\n"
          ]
        },
        {
          "output_type": "execute_result",
          "data": {
            "text/plain": [
              "(3, 2)"
            ]
          },
          "metadata": {},
          "execution_count": 2
        }
      ]
    },
    {
      "cell_type": "markdown",
      "source": [
        "#Задание 3\n"
      ],
      "metadata": {
        "id": "hindpJMCKhB8"
      }
    },
    {
      "cell_type": "code",
      "source": [
        "#ваш код\n",
        "# функция для расчета ранга корреляционной матрицы.\n",
        "def corr_rank(x):\n",
        "    corr_matrix = x.corr()\n",
        "    rank = np.linalg.matrix_rank(corr_matrix)\n",
        "    return rank\n",
        "\n",
        "print(corr_rank(x))\n"
      ],
      "metadata": {
        "id": "-YLajcsEKkuQ",
        "colab": {
          "base_uri": "https://localhost:8080/"
        },
        "outputId": "30b03c61-b7c3-48b3-b29b-2f28e5e1778a"
      },
      "execution_count": 3,
      "outputs": [
        {
          "output_type": "stream",
          "name": "stdout",
          "text": [
            "5\n"
          ]
        }
      ]
    },
    {
      "cell_type": "markdown",
      "source": [
        "# Задание 4"
      ],
      "metadata": {
        "id": "tKweU9DCKk-f"
      }
    },
    {
      "cell_type": "code",
      "source": [
        "#ваш код\n",
        "# функция вернёт None, если матрица необратима, либо вернёт обратную матрицу в виде numpy-массива.\n",
        "def inverse_matrix(A):\n",
        "  if abs(np.linalg.det(A)) < 0.001:\n",
        "    return None\n",
        "  else:\n",
        "    return np.linalg.inv(A)\n",
        "\n",
        "A = np.array([[1, 2], [2, 1]])\n",
        "print(inverse_matrix(A))\n"
      ],
      "metadata": {
        "id": "pi2fjbkjKmzi",
        "colab": {
          "base_uri": "https://localhost:8080/"
        },
        "outputId": "5d818ecb-3b57-4f38-86be-febfcd01d1e6"
      },
      "execution_count": 4,
      "outputs": [
        {
          "output_type": "stream",
          "name": "stdout",
          "text": [
            "[[-0.33333333  0.66666667]\n",
            " [ 0.66666667 -0.33333333]]\n"
          ]
        }
      ]
    },
    {
      "cell_type": "markdown",
      "source": [
        "# Задание 5"
      ],
      "metadata": {
        "id": "pnIqMUVsKnTq"
      }
    },
    {
      "cell_type": "code",
      "source": [
        "#ваш код\n",
        "# расчет оптимальных коэффициентов по методу OLS для матрицы признаков (X) и вектора цен (Y)\n",
        "def fit_model(x, y):\n",
        "    a_matrix = inverse_matrix(x.T @ x) @ x.T @ y\n",
        "    return a_matrix\n",
        "\n",
        "print(fit_model(x, y))"
      ],
      "metadata": {
        "id": "g34wFIBuKpmL",
        "colab": {
          "base_uri": "https://localhost:8080/"
        },
        "outputId": "3f7d3c2d-0bf7-473d-a25d-cc62954c7bd2"
      },
      "execution_count": 5,
      "outputs": [
        {
          "output_type": "stream",
          "name": "stdout",
          "text": [
            "0    -574.122958\n",
            "1      65.332558\n",
            "2     141.802239\n",
            "3    1566.162462\n",
            "4      12.324504\n",
            "5    -315.345525\n",
            "dtype: float64\n"
          ]
        }
      ]
    }
  ]
}